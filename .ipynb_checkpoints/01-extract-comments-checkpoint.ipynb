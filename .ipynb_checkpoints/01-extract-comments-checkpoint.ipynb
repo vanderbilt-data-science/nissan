{
 "cells": [
  {
   "cell_type": "code",
   "execution_count": null,
   "id": "75ac0070-5ab3-4eed-87a2-43dd384847cc",
   "metadata": {},
   "outputs": [],
   "source": [
    "from bs4 import BeautifulSoup\n",
    "import requests\n",
    "import csv"
   ]
  },
  {
   "cell_type": "code",
   "execution_count": null,
   "id": "27b34c85",
   "metadata": {},
   "outputs": [],
   "source": [
    "cd web_comments"
   ]
  },
  {
   "cell_type": "code",
   "execution_count": null,
   "id": "6658fdb4-c8fe-415b-b5ca-81a5812e9f3b",
   "metadata": {
    "tags": []
   },
   "outputs": [],
   "source": [
    "url = \"https://www.edmunds.com/nissan/rogue/2021/consumer-reviews/?pagesize=50\"\n",
    "\n",
    "# Make a GET request to fetch the raw HTML content\n",
    "html_content = requests.get(url).text\n",
    "\n",
    "# Parse the html content\n",
    "soup = BeautifulSoup(html_content, 'html.parser')"
   ]
  },
  {
   "cell_type": "code",
   "execution_count": null,
   "id": "bc6def04",
   "metadata": {},
   "outputs": [],
   "source": [
    "# for Cars.com"
   ]
  },
  {
   "cell_type": "code",
   "execution_count": 35,
   "id": "a91b6af6-491d-458a-96d1-563816840d08",
   "metadata": {
    "tags": []
   },
   "outputs": [],
   "source": [
    "comments = [tag.text.strip() for tag in soup.find_all(\"p\", {\"class\": \"review-body\"})]\n",
    "\n",
    "with open('RAV4_Cars.csv', 'w') as f: \n",
    "    write = csv.writer(f) \n",
    "    for c in comments:\n",
    "        write.writerow([c])"
   ]
  },
  {
   "cell_type": "code",
   "execution_count": null,
   "id": "e4e15641",
   "metadata": {},
   "outputs": [],
   "source": [
    "# for Kbb.com\n",
    "<p type=\"body\" class=\"css-113e3v-StyledParagraph emgezi80\">Car is very nice overall,  fuel  consumption still high I never reached 28 mpg in the town, but the car very powerful.</p>"
   ]
  },
  {
   "cell_type": "code",
   "execution_count": 19,
   "id": "9d1b4143-b651-480b-a3a2-b0c9589895df",
   "metadata": {},
   "outputs": [],
   "source": [
    "comments = [tag.text.strip() for tag in soup.find_all(\"p\", {\"class\":\"css-113e3v-StyledParagraph emgezi80\"})]\n",
    "#print(comments)\n",
    "\n",
    "with open('Rogue_Kbb.csv', 'w') as f: \n",
    "    write = csv.writer(f) \n",
    "    for c in comments:\n",
    "        write.writerow([c])"
   ]
  },
  {
   "cell_type": "code",
   "execution_count": 17,
   "id": "27f9e4f1",
   "metadata": {},
   "outputs": [
    {
     "data": {
      "text/plain": [
       "[<p class=\"css-113e3v-StyledParagraph emgezi80\" type=\"body\">I owned a 2011 Rogue and had zero problems with it, but when it came time to purchase a new car, I wanted something different.  I felt so strongly that I literally didn’t even look at the Rogue during my research. I read many websites and everyone rated the Honda CR V in their top 3, while I haven’t seen the Rogue get any higher than 4th. So, I test drove the Honda CR V.  I was satisfied but not excited.  I left the dealership saying to myself, “SUVs are just not that exciting.” I was all set to go back and purchase it but I decided to look at the Nissan Rogue on the Nissan website. I loved the new look! The next day I went to test drive it and left only after I purchased it!  I was in love as soon as I saw it on the showroom floor. Sitting in it made me feel secure and even fancy! It’s comfortable, but it’s also well designed.  The front row storage is plentiful, convenient, and innovative. The backseat is comfortable and the a/c cents to the back are awesome. (My 2011 didn’t have those.)  The cargo space is similar to my 2011. The safety features are plentiful but overwhelming; note, however, that they would be overwhelming in any car I bought because I’ve never owned a vehicle that had any of those features. \n",
       " \n",
       " I cannot say enough good things about this vehicle. I’m excited to drive it, though, and for me that was shocking. Even my 2011 when it was new didn’t feel exciting exactly. I only hope that this Rogue holds up as well as my other one. \n",
       " \n",
       " I firmly believe this vehicle belongs higher up on the lists.</p>,\n",
       " <p class=\"css-113e3v-StyledParagraph emgezi80\" type=\"body\">Leased the car on 11/23/2020 when my lease on the 2018 was about to mature.   Starting two weeks later trouble with the display  , then the remote starter.  Warning lights come and alerts flash on and off for no reason.   When I went to enter the car after shopping the emergency brake engaged kept flashing.  And would not  disengage.   Yesterday while driving the alert beep went off and a warning lights flashes on the dashboard.   As quick as it went on it went off    Everyone it goes in for service  the say there is no code for them to figure out what is going .    Car is a safety risk.   My other Rogues were great and no problem this one is a big disappointment  and very frustrating</p>,\n",
       " <p class=\"css-113e3v-StyledParagraph emgezi80\" data-cy=\"filter_info\" type=\"body\"><style data-emotion-css=\"4epbhr\">.css-4epbhr{font-family:\"Montserrat\",sans-serif;font-size:14px;font-weight:600;-webkit-letter-spacing:0.5px;-moz-letter-spacing:0.5px;-ms-letter-spacing:0.5px;letter-spacing:0.5px;color:#000000;line-height:16px;line-height:18px;margin-right:8px;}</style><span class=\"css-4epbhr\">Showing 15 of 31 reviews<!-- -->.</span></p>,\n",
       " <p class=\"css-113e3v-StyledParagraph emgezi80\" type=\"body\">More power , comfort</p>,\n",
       " <p class=\"css-113e3v-StyledParagraph emgezi80\" type=\"body\">Safety features like Steering assist only work wi</p>,\n",
       " <p class=\"css-113e3v-StyledParagraph emgezi80\" type=\"body\">Car is very nice overall,  fuel  consumption still high I never reached 28 mpg in the town, but the car very powerful.</p>,\n",
       " <p class=\"css-113e3v-StyledParagraph emgezi80\" type=\"body\">Premium interiors, near hybrid level fuel economy</p>,\n",
       " <p class=\"css-113e3v-StyledParagraph emgezi80\" type=\"body\">Not class leading horsepower numbers</p>,\n",
       " <p class=\"css-113e3v-StyledParagraph emgezi80\" type=\"body\">Had few months and few options to decide on a car before I went with Rogue. Platinum model has all the bells and whistles you would want in a crossover. It has the best interiors and quietist interior cabin compared with CRV and Rav4. Seats are great and amazing for long distance drives. Ride quality is fine for this class and has the best Gauge cluster screen.</p>,\n",
       " <p class=\"css-113e3v-StyledParagraph emgezi80\" type=\"body\">Trade in my Nissan Rogue 2019 for 2021 Nissan Rogue on January 10 had for three weeks and my car will not start up had been at Dealership since February 5 2022 have Engine problems I recommend not to buy this car</p>,\n",
       " <p class=\"css-113e3v-StyledParagraph emgezi80\" type=\"body\">Quiet, nice interior</p>,\n",
       " <p class=\"css-113e3v-StyledParagraph emgezi80\" type=\"body\">Reliability, quality, too many issues</p>,\n",
       " <p class=\"css-113e3v-StyledParagraph emgezi80\" type=\"body\">In the eight  months we owned this car we drove it only four of the eight\n",
       " Months. The vehicle was in the shop constantly starting with bilateral roof leaks, infotainment system turning on and off, car panels shifting to the point we couldn’t open the doors, AC issues and CVT issues. Avoid this car like the plaque. Thankfully it was sold back under the lemon law.</p>,\n",
       " <p class=\"css-113e3v-StyledParagraph emgezi80\" type=\"body\">Enjoyable to drive, comfortable, great tech</p>,\n",
       " <p class=\"css-113e3v-StyledParagraph emgezi80\" type=\"body\">None</p>,\n",
       " <p class=\"css-113e3v-StyledParagraph emgezi80\" type=\"body\">I love everything about my Rogue. It’s comfortable, looks great inside and out, handles great, and I haven’t had any issues so far. It’s a big improvement from the previous generation.  Interior quality is a lot better than the competitors I checked out and took for a test drive. Very satisfied.</p>,\n",
       " <p class=\"css-113e3v-StyledParagraph emgezi80\" type=\"body\">Great to drive</p>,\n",
       " <p class=\"css-113e3v-StyledParagraph emgezi80\" type=\"body\">Ticking in engine</p>,\n",
       " <p class=\"css-113e3v-StyledParagraph emgezi80\" type=\"body\">Very comfortable and drives great. Very spacious love the new technology it has with just having the S version</p>,\n",
       " <p class=\"css-113e3v-StyledParagraph emgezi80\" type=\"body\">features</p>,\n",
       " <p class=\"css-113e3v-StyledParagraph emgezi80\" type=\"body\">Ride</p>,\n",
       " <p class=\"css-113e3v-StyledParagraph emgezi80\" type=\"body\">Ride is OK except for bumps and pot holes. Then it breaks your neck.  Bridge crossings on FWY and rAIROAD TRACKS CAN BE VERY ROUGH.\n",
       " PASSSENGER  DOOR VERY HARD TO OPEN ALL THE WAY.  Need to partly open and then step out and open the rest of the way.  \n",
       " Passenger seat belt hard yo buckle.\n",
       " Features are GREAT !</p>,\n",
       " <p class=\"css-113e3v-StyledParagraph emgezi80\" type=\"body\">The whole car</p>,\n",
       " <p class=\"css-113e3v-StyledParagraph emgezi80\" type=\"body\">NONE</p>,\n",
       " <p class=\"css-113e3v-StyledParagraph emgezi80\" type=\"body\">Got this car in November of 2020, and I still look forward to driving it everyday! I've ceramic coated it with Adams Graphene and is always shiny! I keep it clean at all times and don't treat it like a garbage can. I'm considering getting a 2022 to have a turbo version. I'm getting a combined 30 mpg. LOVE IT!!</p>,\n",
       " <p class=\"css-113e3v-StyledParagraph emgezi80\" type=\"body\">New car smell.</p>,\n",
       " <p class=\"css-113e3v-StyledParagraph emgezi80\" type=\"body\">Not enough room to list.</p>,\n",
       " <p class=\"css-113e3v-StyledParagraph emgezi80\" type=\"body\">Complaints about the 2021 Nissan Rogue SV. Purchased 7-21-2021\n",
       " I have almost 14,000 miles in this thing and wish I never purchased it. \n",
       " \n",
       " 1.\tThe air condition system has a mind of its own. The dual personality is present wither the car has just been started or has been running a while. One side seems to blow the selected temperature. This is the passenger side of the vehicle. The other side, the driver’s side, wants to blow hot air all the time. If the temperature outside is say 80 and I want 72 in the car, the passenger side will cool down no problem BUT the driver’s side will blow hot, not warm but hot air. Seeing how the human body falls asleep in warm temperatures, I see this is a big safety problem.  In the colder months, when I want just a little bit of warm air, the same occurs, it will blow hot air, not slightly warm air like I want. \n",
       " \n",
       " 2.\tThe cruise control and steering assist system have no idea what it means to gradually slow down or what to do on a slight hill approach. It also watches the vehicle in the right adjacent lane too much. For instance, on a 3-lane road, I will be driving the speed set on the cruise control but if a car in the right lane exits the highway, the car will brake like the vehicle is directly in front of it. It seems like a safety issue when the traffic behind me sees me slowing down for no reason at all. The cruise control also thinks an approaching hill is a car and will perform an emergency braking maneuver when all that is happening is that the vehicle is approaching an uphill grade.\n",
       " \n",
       " 3.\tThe third strike against this car is the FACT that the “infotainment system” has serious flaws. When putting the car in reverse, I expect the reverse camera to come on and have priority over all other infotainment systems. What happens is that I am in a parking lot and I need the camera to give me an overhead look so I pish the “camera” button on the infotainment system panel. No problem most times if I am doing under .005 mph. IF I am in the camera views where I get the forward-facing camera and an overhead view and hit the camera button once more for the front right tire view to assist me in parking, it will not switch views. It will just stay in the front camera overhead view screens. IF I place the vehicle in reverse while in this view, it will not change to the backup camera at all. It is just locked up. \n",
       " \n",
       " 4.\tWhen I received the vehicle from the dealership, I noticed an “off” type sound when I closed the rear drivers side door. It was not the usual soft thud from closing a well aligned door. It had more of a misaligned sound like it was nit lined up properly and striking something the wrong way. I mentioned this to the sales man but he just blew it off. Over time this has gotten more prevalent. I fear over time this will become like a truck from the 70’s where it sounds like closing an old door weighing 300 pounds against a metal pipe.</p>,\n",
       " <p class=\"css-113e3v-StyledParagraph emgezi80\" type=\"body\">Favorites:\n",
       " 1. Zero gravity seats.  No more aching behind or restricted blood flow on longer rides.  I wish my apt was full of these.\n",
       " 2. Panoramic sunroof.  Lots of light.  it's huge.\n",
       " 3. Interior.  so sophisticated from the mini shifter embedded in scratched woodish materials.  The leather wrapped steering wheqQd</p>,\n",
       " <p class=\"css-113e3v-StyledParagraph emgezi80\" type=\"body\">Love the look &amp; red color ( which costs more).</p>,\n",
       " <p class=\"css-113e3v-StyledParagraph emgezi80\" type=\"body\">Touch screen, too complicated , shifter bad design</p>,\n",
       " <p class=\"css-113e3v-StyledParagraph emgezi80\" type=\"body\">I purchased this car 4 months ago and have had No Mechanical Problems. What I don’t like is that there are way too many bell’s &amp; whistles. It has taken me several months to turn off the warning buzzers &amp; alerts. I really dislike not being able to shift into park when you stop…everything is all electronic. The touch screen info system is often unresponsive which makes a change difficult when driving. There is a LOT of wind/ road noise T 60mph. At 1,000 rpm the steering wheel vibrates. The dealer said it is “normal”.  Just not satisfied for $31,000.</p>,\n",
       " <p class=\"css-113e3v-StyledParagraph emgezi80\" type=\"body\">Great safety features and style</p>,\n",
       " <p class=\"css-113e3v-StyledParagraph emgezi80\" type=\"body\">Suspension and quality control.</p>,\n",
       " <p class=\"css-113e3v-StyledParagraph emgezi80\" type=\"body\">traded my 2018 Rouge in for the new 2021. BIG Mistake!  Worst suspension in a vehicle I have ever owned. One little bump and this things goes into a tizzy. A/C wont adjust, air vent on passenger side not working. I like the look of the new Rouge and it does have nice features but my 2018 rouge had more features than this and the ride was 90% better. It's a lease and the bright side is I can't dump this thing back on the dealers lot in three years. Time for a brand change I think.</p>,\n",
       " <p class=\"css-113e3v-StyledParagraph emgezi80\" type=\"body\">Nicely equipped for the price</p>,\n",
       " <p class=\"css-113e3v-StyledParagraph emgezi80\" type=\"body\">none yet</p>,\n",
       " <p class=\"css-113e3v-StyledParagraph emgezi80\" type=\"body\">I purchased the SV model with a sticker price of $29,500. The interior is very attractive.  While this model does not have all the 'bells &amp; whistles' of the more expensive SUVs, it is nicely equipped.  Great safety features.  The ride is smooth for a mid priced SUV and comfortable to drive.  If you looking for an affordable SUV, this one is for you.  Only have driven the SUV for a few weeks so no issues yet.  Friends of mine are on their 2nd Rogue and they loved both.</p>,\n",
       " <p class=\"css-113e3v-StyledParagraph emgezi80\" type=\"body\">Good mix</p>,\n",
       " <p class=\"css-113e3v-StyledParagraph emgezi80\" type=\"body\">Not much</p>,\n",
       " <p class=\"css-113e3v-StyledParagraph emgezi80\" type=\"body\">No complaints, does what it should and hasn't complained. Nice touch screen and speakers standard, check it out</p>,\n",
       " <p class=\"css-113e3v-StyledParagraph emgezi80\" type=\"body\">Beautiful and luxurious feeling</p>,\n",
       " <p class=\"css-113e3v-StyledParagraph emgezi80\" type=\"body\">Back seat back cannot be adjusted and is not comfy</p>,\n",
       " <p class=\"css-113e3v-StyledParagraph emgezi80\" type=\"body\">We looked at many comparable vehicles. The 2021 Rogue gave us the best vehicle at an affordable price.  We love it!!  The only negative is the back seat could be a bit more comfortable.</p>]"
      ]
     },
     "execution_count": 17,
     "metadata": {},
     "output_type": "execute_result"
    }
   ],
   "source": [
    "soup.find_all(\"p\", {\"class\":\"css-113e3v-StyledParagraph emgezi80\"})"
   ]
  },
  {
   "cell_type": "code",
   "execution_count": null,
   "id": "4cc882e9",
   "metadata": {},
   "outputs": [],
   "source": [
    "# for Edmund.com"
   ]
  },
  {
   "cell_type": "code",
   "execution_count": null,
   "id": "dea32d48",
   "metadata": {},
   "outputs": [],
   "source": [
    "url_ed = \"https://www.edmunds.com/nissan/rogue/2021/consumer-reviews/?pagesize=50\"\n",
    "\n",
    "# Make a GET request to fetch the raw HTML content\n",
    "html_content = requests.get(url_ed).text\n",
    "\n",
    "# Parse the html content\n",
    "soup = BeautifulSoup(html_content, 'html.parser')\n",
    "\n",
    "\n",
    "comments = [tag.text.strip() for tag in soup.find_all(\"p\", {\"class\":\"truncated-text size-16\"})]\n",
    "\n",
    "with open('Rogue_Edmund.csv', 'w') as f: \n",
    "    write = csv.writer(f) \n",
    "    for c in comments:\n",
    "        write.writerow([c])"
   ]
  },
  {
   "cell_type": "code",
   "execution_count": null,
   "id": "e264ceb5",
   "metadata": {},
   "outputs": [],
   "source": [
    "# for Youtube"
   ]
  },
  {
   "cell_type": "code",
   "execution_count": 32,
   "id": "32077679",
   "metadata": {},
   "outputs": [
    {
     "ename": "SyntaxError",
     "evalue": "invalid syntax (<ipython-input-32-28df316bcb3a>, line 1)",
     "output_type": "error",
     "traceback": [
      "\u001b[0;36m  File \u001b[0;32m\"<ipython-input-32-28df316bcb3a>\"\u001b[0;36m, line \u001b[0;32m1\u001b[0m\n\u001b[0;31m    comments = [tag.text.strip() for tag in soup.find_all(class=\"style-scope yt-formatted-string\")]\u001b[0m\n\u001b[0m                                                          ^\u001b[0m\n\u001b[0;31mSyntaxError\u001b[0m\u001b[0;31m:\u001b[0m invalid syntax\n"
     ]
    }
   ],
   "source": [
    "comments = [tag.text.strip() for tag in soup.find_all(\"span\", {\"dir\": \"auto\", \"class\":\"style-scope yt-formatted-string\"})]\n",
    "\n",
    "with open('Escape_Youtube.csv', 'w') as f: \n",
    "    write = csv.writer(f) \n",
    "    for c in comments:\n",
    "        write.writerow([c])"
   ]
  },
  {
   "cell_type": "code",
   "execution_count": 34,
   "id": "aa3015be",
   "metadata": {},
   "outputs": [],
   "source": []
  },
  {
   "cell_type": "code",
   "execution_count": null,
   "id": "c8411e5a",
   "metadata": {},
   "outputs": [],
   "source": []
  }
 ],
 "metadata": {
  "kernelspec": {
   "display_name": "Python 3",
   "language": "python",
   "name": "python3"
  },
  "language_info": {
   "codemirror_mode": {
    "name": "ipython",
    "version": 3
   },
   "file_extension": ".py",
   "mimetype": "text/x-python",
   "name": "python",
   "nbconvert_exporter": "python",
   "pygments_lexer": "ipython3",
   "version": "3.8.8"
  }
 },
 "nbformat": 4,
 "nbformat_minor": 5
}
