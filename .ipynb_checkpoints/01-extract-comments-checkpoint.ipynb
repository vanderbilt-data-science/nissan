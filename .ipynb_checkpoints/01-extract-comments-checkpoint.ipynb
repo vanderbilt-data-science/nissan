{
 "cells": [
  {
   "cell_type": "code",
   "execution_count": 11,
   "id": "75ac0070-5ab3-4eed-87a2-43dd384847cc",
   "metadata": {},
   "outputs": [],
   "source": [
    "from bs4 import BeautifulSoup\n",
    "import requests\n",
    "import csv"
   ]
  },
  {
   "cell_type": "code",
   "execution_count": 15,
   "id": "27b34c85",
   "metadata": {},
   "outputs": [
    {
     "name": "stdout",
     "output_type": "stream",
     "text": [
      "/Users/bf/Desktop/Nissan Project/nissan/web_comments\n"
     ]
    }
   ],
   "source": [
    "cd web_comments"
   ]
  },
  {
   "cell_type": "code",
   "execution_count": 23,
   "id": "6658fdb4-c8fe-415b-b5ca-81a5812e9f3b",
   "metadata": {
    "tags": []
   },
   "outputs": [],
   "source": [
    "url = \"https://www.youtube.com/watch?v=JvrxxApP8dw\"\n",
    "\n",
    "# Make a GET request to fetch the raw HTML content\n",
    "html_content = requests.get(url).text\n",
    "\n",
    "# Parse the html content\n",
    "soup = BeautifulSoup(html_content, 'html.parser')"
   ]
  },
  {
   "cell_type": "code",
   "execution_count": null,
   "id": "bc6def04",
   "metadata": {},
   "outputs": [],
   "source": [
    "# for Cars.com"
   ]
  },
  {
   "cell_type": "code",
   "execution_count": 35,
   "id": "a91b6af6-491d-458a-96d1-563816840d08",
   "metadata": {
    "tags": []
   },
   "outputs": [],
   "source": [
    "comments = [tag.text.strip() for tag in soup.find_all(\"p\", {\"class\": \"review-body\"})]\n",
    "\n",
    "with open('RAV4_Cars.csv', 'w') as f: \n",
    "    write = csv.writer(f) \n",
    "    for c in comments:\n",
    "        write.writerow([c])"
   ]
  },
  {
   "cell_type": "code",
   "execution_count": null,
   "id": "e4e15641",
   "metadata": {},
   "outputs": [],
   "source": [
    "# for Kbb.com"
   ]
  },
  {
   "cell_type": "code",
   "execution_count": 18,
   "id": "9d1b4143-b651-480b-a3a2-b0c9589895df",
   "metadata": {},
   "outputs": [],
   "source": [
    "comments = [tag.text.strip() for tag in soup.find_all(\"div\", {\"type\":\"body\", \"class\": \"css-113e3v-StyledParagraph emgezi80\"})]\n",
    "\n",
    "with open('Rogue_Kbb.csv', 'w') as f: \n",
    "    write = csv.writer(f) \n",
    "    for c in comments:\n",
    "        write.writerow([c])"
   ]
  },
  {
   "cell_type": "code",
   "execution_count": null,
   "id": "4cc882e9",
   "metadata": {},
   "outputs": [],
   "source": [
    "# for Edmund.com"
   ]
  },
  {
   "cell_type": "code",
   "execution_count": null,
   "id": "dea32d48",
   "metadata": {},
   "outputs": [],
   "source": [
    "comments = [tag.text.strip() for tag in soup.find_all(\"p\", {\"class\":\"truncated-text size-16\"})]\n",
    "\n",
    "with open('Rogue_Edmund.csv', 'w') as f: \n",
    "    write = csv.writer(f) \n",
    "    for c in comments:\n",
    "        write.writerow([c])"
   ]
  },
  {
   "cell_type": "code",
   "execution_count": null,
   "id": "e264ceb5",
   "metadata": {},
   "outputs": [],
   "source": [
    "# for Youtube"
   ]
  },
  {
   "cell_type": "code",
   "execution_count": 32,
   "id": "32077679",
   "metadata": {},
   "outputs": [
    {
     "ename": "SyntaxError",
     "evalue": "invalid syntax (<ipython-input-32-28df316bcb3a>, line 1)",
     "output_type": "error",
     "traceback": [
      "\u001b[0;36m  File \u001b[0;32m\"<ipython-input-32-28df316bcb3a>\"\u001b[0;36m, line \u001b[0;32m1\u001b[0m\n\u001b[0;31m    comments = [tag.text.strip() for tag in soup.find_all(class=\"style-scope yt-formatted-string\")]\u001b[0m\n\u001b[0m                                                          ^\u001b[0m\n\u001b[0;31mSyntaxError\u001b[0m\u001b[0;31m:\u001b[0m invalid syntax\n"
     ]
    }
   ],
   "source": [
    "comments = [tag.text.strip() for tag in soup.find_all(\"span\", {\"dir\": \"auto\", \"class\":\"style-scope yt-formatted-string\"})]\n",
    "\n",
    "with open('Escape_Youtube.csv', 'w') as f: \n",
    "    write = csv.writer(f) \n",
    "    for c in comments:\n",
    "        write.writerow([c])"
   ]
  },
  {
   "cell_type": "code",
   "execution_count": 34,
   "id": "aa3015be",
   "metadata": {},
   "outputs": [],
   "source": []
  },
  {
   "cell_type": "code",
   "execution_count": null,
   "id": "c8411e5a",
   "metadata": {},
   "outputs": [],
   "source": []
  }
 ],
 "metadata": {
  "kernelspec": {
   "display_name": "Python 3",
   "language": "python",
   "name": "python3"
  },
  "language_info": {
   "codemirror_mode": {
    "name": "ipython",
    "version": 3
   },
   "file_extension": ".py",
   "mimetype": "text/x-python",
   "name": "python",
   "nbconvert_exporter": "python",
   "pygments_lexer": "ipython3",
   "version": "3.8.8"
  }
 },
 "nbformat": 4,
 "nbformat_minor": 5
}
