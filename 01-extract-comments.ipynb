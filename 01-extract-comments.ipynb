{
 "cells": [
  {
   "cell_type": "code",
   "execution_count": 13,
   "id": "75ac0070-5ab3-4eed-87a2-43dd384847cc",
   "metadata": {},
   "outputs": [],
   "source": [
    "from bs4 import BeautifulSoup\n",
    "import requests\n",
    "import csv"
   ]
  },
  {
   "cell_type": "code",
   "execution_count": 10,
   "id": "6658fdb4-c8fe-415b-b5ca-81a5812e9f3b",
   "metadata": {
    "tags": []
   },
   "outputs": [],
   "source": [
    "url = \"https://www.cars.com/research/nissan-rogue-2021/consumer-reviews/?page_size=200\"\n",
    "\n",
    "# Make a GET request to fetch the raw HTML content\n",
    "html_content = requests.get(url).text\n",
    "\n",
    "# Parse the html content\n",
    "soup = BeautifulSoup(html_content, 'html.parser')"
   ]
  },
  {
   "cell_type": "code",
   "execution_count": 25,
   "id": "a91b6af6-491d-458a-96d1-563816840d08",
   "metadata": {
    "tags": []
   },
   "outputs": [],
   "source": [
    "comments = [tag.text.strip() for tag in soup.find_all(\"p\", {\"class\": \"review-body\"})]\n",
    "\n",
    "with open('rogue.csv', 'w') as f: \n",
    "    write = csv.writer(f) \n",
    "    for c in comments:\n",
    "        write.writerow([c])"
   ]
  },
  {
   "cell_type": "code",
   "execution_count": null,
   "id": "9d1b4143-b651-480b-a3a2-b0c9589895df",
   "metadata": {},
   "outputs": [],
   "source": []
  }
 ],
 "metadata": {
  "kernelspec": {
   "display_name": "Python 3",
   "language": "python",
   "name": "python3"
  },
  "language_info": {
   "codemirror_mode": {
    "name": "ipython",
    "version": 3
   },
   "file_extension": ".py",
   "mimetype": "text/x-python",
   "name": "python",
   "nbconvert_exporter": "python",
   "pygments_lexer": "ipython3",
   "version": "3.8.3"
  }
 },
 "nbformat": 4,
 "nbformat_minor": 5
}
