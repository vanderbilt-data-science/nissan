{
 "cells": [
  {
   "cell_type": "code",
   "execution_count": 1,
   "id": "beea04fd",
   "metadata": {},
   "outputs": [],
   "source": [
    "from bs4 import BeautifulSoup\n",
    "import requests\n",
    "import csv\n",
    "from urllib.request import urlopen\n",
    "from bs4 import BeautifulSoup\n",
    "import re\n",
    "import pandas as pd\n",
    "import numpy as np"
   ]
  },
  {
   "cell_type": "raw",
   "id": "1ad14151",
   "metadata": {},
   "source": [
    "url_ed = \"https://www.edmunds.com/nissan/rogue/2021/consumer-reviews/\"\n",
    "\n",
    "#headers = {'User-Agent': 'Mozilla/5.0 (Windows NT 6.1; WOW64) AppleWebKit/537.36 (KHTML, like Gecko) Chrome/56.0.2924.76 Safari/537.36', \"Upgrade-Insecure-Requests\": \"1\",\"DNT\": \"1\",\"Accept\": \"text/html,application/xhtml+xml,application/xml;q=0.9,*/*;q=0.8\",\"Accept-Language\": \"en-US,en;q=0.5\",\"Accept-Encoding\": \"gzip, deflate\"}\n",
    "\n",
    "headers = { 'Accept-Language' : 'zh-CN,zh;q=0.9,en;q=0.8,zh-TW;q=0.7',\n",
    "            'User-Agent': 'Mozilla/5.0 (Macintosh; Intel Mac OS X 10_15_7) AppleWebKit/537.36 (KHTML, like Gecko) Chrome/100.0.4896.75 Safari/537.36'}\n",
    "\n",
    "\n",
    "\n",
    "\n",
    "# Make a GET request to fetch the raw HTML content\n",
    "html_content = requests.get(url_ed,headers=headers,timeout=1)"
   ]
  },
  {
   "cell_type": "raw",
   "id": "95c65cb7",
   "metadata": {},
   "source": [
    "url_ed = 'https://www.edmunds.com/nissan/rogue/2021/consumer-reviews/?pagenum=3&pagesize=50'\n",
    "\n",
    "html_content = requests.get(url_ed,headers=headers,timeout=1)"
   ]
  },
  {
   "cell_type": "raw",
   "id": "d19d49d0",
   "metadata": {},
   "source": [
    "soup = BeautifulSoup(html_content.text, 'html.parser')\n",
    "\n",
    "\n",
    "comments = [tag.text.strip() for tag in soup.find_all(\"div\", {\"class\":\"truncated-text size-16\"})]"
   ]
  },
  {
   "cell_type": "raw",
   "id": "13fd871d",
   "metadata": {},
   "source": [
    "from bs4 import BeautifulSoup\n",
    "import urllib\n",
    "table = soup.findAll('div',attrs={\"class\":\"review-item text-gray-darker\"})\n",
    "for x in table:\n",
    "    print(x.find('p').text)"
   ]
  },
  {
   "cell_type": "raw",
   "id": "cbfb7cdb",
   "metadata": {},
   "source": [
    "L = None\n",
    "for x in table:\n",
    "    print(x.find('p').text)\n",
    "    #print(x.find('p').text.strip())"
   ]
  },
  {
   "cell_type": "raw",
   "id": "ec06fb6a",
   "metadata": {},
   "source": [
    "type(table[0].find('p').text)"
   ]
  },
  {
   "cell_type": "raw",
   "id": "13c4a227",
   "metadata": {},
   "source": [
    "C = [tag.find('p').text.strip() for tag in soup.findAll('div',attrs={\"class\":\"review-item text-gray-darker\"})]"
   ]
  },
  {
   "cell_type": "raw",
   "id": "2e56c145",
   "metadata": {},
   "source": [
    "len(C)"
   ]
  },
  {
   "cell_type": "raw",
   "id": "38ad560f",
   "metadata": {},
   "source": [
    "S = [tag.text.strip() for tag in soup.find_all(\"span\", {\"class\":\"rating-stars text-primary-darker mr-0_25\"})]"
   ]
  },
  {
   "cell_type": "raw",
   "id": "09ee5386",
   "metadata": {},
   "source": [
    "len(S)"
   ]
  },
  {
   "cell_type": "code",
   "execution_count": 89,
   "id": "eb15f517",
   "metadata": {},
   "outputs": [],
   "source": [
    "headers = { 'Accept-Language' : 'zh-CN,zh;q=0.9,en;q=0.8,zh-TW;q=0.7',\n",
    "            'User-Agent': 'Mozilla/5.0 (Macintosh; Intel Mac OS X 10_15_7) AppleWebKit/537.36 (KHTML, like Gecko) Chrome/100.0.4896.75 Safari/537.36'}\n",
    "\n",
    "#web=str(input(\"web:\"))\n",
    "#model=str(input(\"Model:\")) \n",
    "\n",
    "def find_comment(web,model,pages):\n",
    "    #web=str(input(\"web:\"))\n",
    "    #model=str(input(\"Model:\")) \n",
    "    df = pd.DataFrame(columns=['model', 'rating','comments'])\n",
    "    for i in range(1,pages+1):\n",
    "        url_ed = str(web)+'consumer-reviews/?pagenum='+str(i)+'&pagesize=50'\n",
    "        html_content = requests.get(url_ed,headers=headers,timeout=1)\n",
    "        soup = BeautifulSoup(html_content.text, 'html.parser')\n",
    "        C = [tag.find('p').text.strip() for tag in soup.findAll('div',attrs={\"class\":\"review-item text-gray-darker\"})]\n",
    "        R = [tag.text.strip() for tag in soup.find_all(\"span\", {\"class\":\"rating-stars text-primary-darker mr-0_25\"})]\n",
    "        \n",
    "        df2 = pd.DataFrame({'model': model,'rating': R,'comments': C})\n",
    "        df = df.append(df2, ignore_index = True)\n",
    "    return df"
   ]
  },
  {
   "cell_type": "code",
   "execution_count": 101,
   "id": "b5f65d47",
   "metadata": {
    "scrolled": false
   },
   "outputs": [
    {
     "name": "stdout",
     "output_type": "stream",
     "text": [
      "web:https://www.edmunds.com/toyota/rav4/2021/\n",
      "Model:rav4\n"
     ]
    }
   ],
   "source": [
    "web=str(input(\"web:\"))\n",
    "model=str(input(\"Model:\")) \n",
    "df = find_comment(web,model,2)\n",
    "df.to_csv(model+'.csv',index=False)"
   ]
  },
  {
   "cell_type": "raw",
   "id": "1c4c11fb",
   "metadata": {},
   "source": [
    "#model=str(input(\"Model:\"))\n",
    "df.to_csv(model+'.csv',index=False)"
   ]
  }
 ],
 "metadata": {
  "kernelspec": {
   "display_name": "Python 3 (ipykernel)",
   "language": "python",
   "name": "python3"
  },
  "language_info": {
   "codemirror_mode": {
    "name": "ipython",
    "version": 3
   },
   "file_extension": ".py",
   "mimetype": "text/x-python",
   "name": "python",
   "nbconvert_exporter": "python",
   "pygments_lexer": "ipython3",
   "version": "3.8.3"
  }
 },
 "nbformat": 4,
 "nbformat_minor": 5
}
